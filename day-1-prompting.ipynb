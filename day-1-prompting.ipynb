{
 "cells": [
  {
   "cell_type": "code",
   "execution_count": 1,
   "id": "96910eaf",
   "metadata": {
    "_cell_guid": "b1076dfc-b9ad-4769-8c92-a6c4dae69d19",
    "_uuid": "8f2839f25d086af736a60e9eeb907d3b93b6e0e5",
    "execution": {
     "iopub.execute_input": "2025-04-01T19:33:31.977116Z",
     "iopub.status.busy": "2025-04-01T19:33:31.976709Z",
     "iopub.status.idle": "2025-04-01T19:33:32.886957Z",
     "shell.execute_reply": "2025-04-01T19:33:32.885924Z"
    },
    "papermill": {
     "duration": 0.924186,
     "end_time": "2025-04-01T19:33:32.888840",
     "exception": false,
     "start_time": "2025-04-01T19:33:31.964654",
     "status": "completed"
    },
    "tags": []
   },
   "outputs": [],
   "source": [
    "# This Python 3 environment comes with many helpful analytics libraries installed\n",
    "# It is defined by the kaggle/python Docker image: https://github.com/kaggle/docker-python\n",
    "# For example, here's several helpful packages to load\n",
    "\n",
    "import numpy as np # linear algebra\n",
    "import pandas as pd # data processing, CSV file I/O (e.g. pd.read_csv)\n",
    "\n",
    "# Input data files are available in the read-only \"../input/\" directory\n",
    "# For example, running this (by clicking run or pressing Shift+Enter) will list all files under the input directory\n",
    "\n",
    "import os\n",
    "for dirname, _, filenames in os.walk('/kaggle/input'):\n",
    "    for filename in filenames:\n",
    "        print(os.path.join(dirname, filename))\n",
    "\n",
    "# You can write up to 20GB to the current directory (/kaggle/working/) that gets preserved as output when you create a version using \"Save & Run All\" \n",
    "# You can also write temporary files to /kaggle/temp/, but they won't be saved outside of the current session"
   ]
  },
  {
   "cell_type": "code",
   "execution_count": 2,
   "id": "9cbc33ea",
   "metadata": {
    "execution": {
     "iopub.execute_input": "2025-04-01T19:33:32.909839Z",
     "iopub.status.busy": "2025-04-01T19:33:32.909319Z",
     "iopub.status.idle": "2025-04-01T19:33:41.200140Z",
     "shell.execute_reply": "2025-04-01T19:33:41.199093Z"
    },
    "papermill": {
     "duration": 8.303174,
     "end_time": "2025-04-01T19:33:41.202047",
     "exception": false,
     "start_time": "2025-04-01T19:33:32.898873",
     "status": "completed"
    },
    "tags": []
   },
   "outputs": [
    {
     "name": "stdout",
     "output_type": "stream",
     "text": [
      "\u001b[2K   \u001b[90m━━━━━━━━━━━━━━━━━━━━━━━━━━━━━━━━━━━━━━━━\u001b[0m \u001b[32m144.7/144.7 kB\u001b[0m \u001b[31m7.9 MB/s\u001b[0m eta \u001b[36m0:00:00\u001b[0m\r\n",
      "\u001b[2K   \u001b[90m━━━━━━━━━━━━━━━━━━━━━━━━━━━━━━━━━━━━━━━━\u001b[0m \u001b[32m100.9/100.9 kB\u001b[0m \u001b[31m5.4 MB/s\u001b[0m eta \u001b[36m0:00:00\u001b[0m\r\n",
      "\u001b[?25h"
     ]
    }
   ],
   "source": [
    "!pip uninstall -qqy jupyterlab  # Remove unused packages from Kaggle's base image that conflict\n",
    "!pip install -U -q \"google-genai==1.7.0\""
   ]
  },
  {
   "cell_type": "code",
   "execution_count": 3,
   "id": "51ddb57d",
   "metadata": {
    "execution": {
     "iopub.execute_input": "2025-04-01T19:33:41.223504Z",
     "iopub.status.busy": "2025-04-01T19:33:41.222908Z",
     "iopub.status.idle": "2025-04-01T19:33:42.514364Z",
     "shell.execute_reply": "2025-04-01T19:33:42.513298Z"
    },
    "papermill": {
     "duration": 1.304344,
     "end_time": "2025-04-01T19:33:42.516527",
     "exception": false,
     "start_time": "2025-04-01T19:33:41.212183",
     "status": "completed"
    },
    "tags": []
   },
   "outputs": [],
   "source": [
    "from google import genai\n",
    "from google.genai import types\n",
    "\n",
    "from IPython.display import HTML, Markdown, display\n"
   ]
  },
  {
   "cell_type": "code",
   "execution_count": 4,
   "id": "2fddd67a",
   "metadata": {
    "execution": {
     "iopub.execute_input": "2025-04-01T19:33:42.538222Z",
     "iopub.status.busy": "2025-04-01T19:33:42.537631Z",
     "iopub.status.idle": "2025-04-01T19:33:42.754622Z",
     "shell.execute_reply": "2025-04-01T19:33:42.753527Z"
    },
    "papermill": {
     "duration": 0.229873,
     "end_time": "2025-04-01T19:33:42.756657",
     "exception": false,
     "start_time": "2025-04-01T19:33:42.526784",
     "status": "completed"
    },
    "tags": []
   },
   "outputs": [],
   "source": [
    "from google.api_core import retry\n",
    "\n",
    "\n",
    "is_retriable = lambda e: (isinstance(e, genai.errors.APIError) and e.code in {429, 503})\n",
    "\n",
    "genai.models.Models.generate_content = retry.Retry(\n",
    "    predicate=is_retriable)(genai.models.Models.generate_content)"
   ]
  },
  {
   "cell_type": "code",
   "execution_count": 5,
   "id": "0a4a3f08",
   "metadata": {
    "execution": {
     "iopub.execute_input": "2025-04-01T19:33:42.778845Z",
     "iopub.status.busy": "2025-04-01T19:33:42.778280Z",
     "iopub.status.idle": "2025-04-01T19:33:43.201573Z",
     "shell.execute_reply": "2025-04-01T19:33:43.200497Z"
    },
    "papermill": {
     "duration": 0.437023,
     "end_time": "2025-04-01T19:33:43.203567",
     "exception": false,
     "start_time": "2025-04-01T19:33:42.766544",
     "status": "completed"
    },
    "tags": []
   },
   "outputs": [],
   "source": [
    "from kaggle_secrets import UserSecretsClient\n",
    "\n",
    "GOOGLE_API_KEY = UserSecretsClient().get_secret(\"GOOGLE_API_KEY\")"
   ]
  },
  {
   "cell_type": "code",
   "execution_count": 6,
   "id": "1f087ce4",
   "metadata": {
    "execution": {
     "iopub.execute_input": "2025-04-01T19:33:43.224617Z",
     "iopub.status.busy": "2025-04-01T19:33:43.224291Z",
     "iopub.status.idle": "2025-04-01T19:33:46.083686Z",
     "shell.execute_reply": "2025-04-01T19:33:46.082416Z"
    },
    "papermill": {
     "duration": 2.871875,
     "end_time": "2025-04-01T19:33:46.085274",
     "exception": false,
     "start_time": "2025-04-01T19:33:43.213399",
     "status": "completed"
    },
    "tags": []
   },
   "outputs": [
    {
     "name": "stdout",
     "output_type": "stream",
     "text": [
      "Imagine you have a really, really smart puppy! This puppy can learn tricks, right? You show it something, and it tries to copy you.\n",
      "\n",
      "AI is like that puppy, but instead of learning tricks, it learns from lots and lots of information! Think of it like this:\n",
      "\n",
      "*   **You teach the puppy lots of words:** You show it pictures of apples and say \"apple\" a million times. Eventually, the puppy learns that when it sees a red fruit, it can say \"apple!\"\n",
      "\n",
      "*   **The AI learns from lots of data:**  We give the AI tons of information - like all the pictures of apples in the whole wide world, plus information about how apples grow, how they taste, and everything else!\n",
      "\n",
      "So, AI is like a super-smart puppy that learns from tons of information to do things like:\n",
      "\n",
      "*   **Recognize pictures:** Just like our puppy learning about apples! AI can look at pictures and tell you what's in them.\n",
      "*   **Answer questions:** You can ask it anything, and it will try to find the answer from all the information it has learned.\n",
      "*   **Write stories:** The AI can use the words and stories it has learned to create its own stories.\n",
      "*   **Play games:** It can learn the rules of a game and get really good at playing it!\n",
      "\n",
      "The cool thing is, AI keeps learning and getting smarter as it gets more information!  It's like a puppy that never stops learning new tricks!\n",
      "\n"
     ]
    }
   ],
   "source": [
    "client = genai.Client(api_key=GOOGLE_API_KEY)\n",
    "\n",
    "response = client.models.generate_content(\n",
    "    model=\"gemini-2.0-flash\",\n",
    "    contents=\"Explain AI to me like I'm a kid.\")\n",
    "\n",
    "print(response.text)"
   ]
  },
  {
   "cell_type": "code",
   "execution_count": 7,
   "id": "838c1258",
   "metadata": {
    "execution": {
     "iopub.execute_input": "2025-04-01T19:33:46.106326Z",
     "iopub.status.busy": "2025-04-01T19:33:46.105944Z",
     "iopub.status.idle": "2025-04-01T19:33:48.339367Z",
     "shell.execute_reply": "2025-04-01T19:33:48.338197Z"
    },
    "papermill": {
     "duration": 2.246288,
     "end_time": "2025-04-01T19:33:48.341450",
     "exception": false,
     "start_time": "2025-04-01T19:33:46.095162",
     "status": "completed"
    },
    "tags": []
   },
   "outputs": [
    {
     "name": "stdout",
     "output_type": "stream",
     "text": [
      "Imagine you have a really, really smart robot that can learn new things. That's kind of like AI!\n",
      "\n",
      "It's like teaching a dog a trick. At first, the dog doesn't know what \"sit\" means. But if you give it a treat every time it sits, it starts to learn that \"sit\" means getting a yummy treat.\n",
      "\n",
      "AI is similar! We give it lots of examples and tell it what's right and wrong.  For example, if we want to teach AI to recognize cats, we show it lots and lots of pictures of cats!  We tell it, \"This is a cat, this is a cat, this is a cat!\" And the AI learns what a cat looks like.\n",
      "\n",
      "Then, when we show it a new picture, it can say, \"Hey! That looks like a cat!\"\n",
      "\n",
      "So, AI is like a really smart student that can learn from lots of examples and then use what it learns to do new things.\n",
      "\n",
      "It can do things like:\n",
      "\n",
      "*   Help you find videos to watch (like on YouTube Kids!).\n",
      "*   Help you talk to your phone (like when you say \"Hey Siri!\").\n",
      "*   Help doctors figure out if someone is sick.\n",
      "*   Even help cars drive themselves!\n",
      "\n",
      "It's still learning and getting smarter every day! Pretty cool, right?\n",
      "\n"
     ]
    }
   ],
   "source": [
    "client = genai.Client(api_key=GOOGLE_API_KEY)\n",
    "\n",
    "response = client.models.generate_content(\n",
    "    model=\"gemini-2.0-flash\",\n",
    "    contents=\"Explain AI to me like I'm a kid.\")\n",
    "\n",
    "print(response.text)"
   ]
  },
  {
   "cell_type": "code",
   "execution_count": 8,
   "id": "100b164c",
   "metadata": {
    "execution": {
     "iopub.execute_input": "2025-04-01T19:33:48.370552Z",
     "iopub.status.busy": "2025-04-01T19:33:48.370166Z",
     "iopub.status.idle": "2025-04-01T19:33:48.377166Z",
     "shell.execute_reply": "2025-04-01T19:33:48.376219Z"
    },
    "papermill": {
     "duration": 0.022044,
     "end_time": "2025-04-01T19:33:48.378744",
     "exception": false,
     "start_time": "2025-04-01T19:33:48.356700",
     "status": "completed"
    },
    "tags": []
   },
   "outputs": [
    {
     "data": {
      "text/markdown": [
       "Imagine you have a really, really smart robot that can learn new things. That's kind of like AI!\n",
       "\n",
       "It's like teaching a dog a trick. At first, the dog doesn't know what \"sit\" means. But if you give it a treat every time it sits, it starts to learn that \"sit\" means getting a yummy treat.\n",
       "\n",
       "AI is similar! We give it lots of examples and tell it what's right and wrong.  For example, if we want to teach AI to recognize cats, we show it lots and lots of pictures of cats!  We tell it, \"This is a cat, this is a cat, this is a cat!\" And the AI learns what a cat looks like.\n",
       "\n",
       "Then, when we show it a new picture, it can say, \"Hey! That looks like a cat!\"\n",
       "\n",
       "So, AI is like a really smart student that can learn from lots of examples and then use what it learns to do new things.\n",
       "\n",
       "It can do things like:\n",
       "\n",
       "*   Help you find videos to watch (like on YouTube Kids!).\n",
       "*   Help you talk to your phone (like when you say \"Hey Siri!\").\n",
       "*   Help doctors figure out if someone is sick.\n",
       "*   Even help cars drive themselves!\n",
       "\n",
       "It's still learning and getting smarter every day! Pretty cool, right?\n"
      ],
      "text/plain": [
       "<IPython.core.display.Markdown object>"
      ]
     },
     "execution_count": 8,
     "metadata": {},
     "output_type": "execute_result"
    }
   ],
   "source": [
    "Markdown(response.text)"
   ]
  },
  {
   "cell_type": "markdown",
   "id": "68fa923d",
   "metadata": {
    "papermill": {
     "duration": 0.009623,
     "end_time": "2025-04-01T19:33:48.398623",
     "exception": false,
     "start_time": "2025-04-01T19:33:48.389000",
     "status": "completed"
    },
    "tags": []
   },
   "source": [
    "# Start a chat"
   ]
  },
  {
   "cell_type": "markdown",
   "id": "d2212fb6",
   "metadata": {
    "papermill": {
     "duration": 0.010762,
     "end_time": "2025-04-01T19:33:48.419335",
     "exception": false,
     "start_time": "2025-04-01T19:33:48.408573",
     "status": "completed"
    },
    "tags": []
   },
   "source": [
    "The previous example uses a single-turn, text-in/text-out structure, but you can also set up a multi-turn chat structure too."
   ]
  },
  {
   "cell_type": "code",
   "execution_count": 9,
   "id": "94003c9e",
   "metadata": {
    "execution": {
     "iopub.execute_input": "2025-04-01T19:33:48.440389Z",
     "iopub.status.busy": "2025-04-01T19:33:48.439946Z",
     "iopub.status.idle": "2025-04-01T19:33:49.155916Z",
     "shell.execute_reply": "2025-04-01T19:33:49.154805Z"
    },
    "papermill": {
     "duration": 0.728517,
     "end_time": "2025-04-01T19:33:49.157755",
     "exception": false,
     "start_time": "2025-04-01T19:33:48.429238",
     "status": "completed"
    },
    "tags": []
   },
   "outputs": [
    {
     "name": "stdout",
     "output_type": "stream",
     "text": [
      "Hello Rajeev! It's nice to meet you. How can I help you today?\n",
      "\n"
     ]
    }
   ],
   "source": [
    "chat = client.chats.create(model='gemini-2.0-flash', history=[])\n",
    "response = chat.send_message('Hello! My name is Rajeev.')\n",
    "print(response.text)"
   ]
  },
  {
   "cell_type": "code",
   "execution_count": 10,
   "id": "b4dfa0e1",
   "metadata": {
    "execution": {
     "iopub.execute_input": "2025-04-01T19:33:49.179368Z",
     "iopub.status.busy": "2025-04-01T19:33:49.178928Z",
     "iopub.status.idle": "2025-04-01T19:33:50.647441Z",
     "shell.execute_reply": "2025-04-01T19:33:50.646384Z"
    },
    "papermill": {
     "duration": 1.481191,
     "end_time": "2025-04-01T19:33:50.649230",
     "exception": false,
     "start_time": "2025-04-01T19:33:49.168039",
     "status": "completed"
    },
    "tags": []
   },
   "outputs": [
    {
     "name": "stdout",
     "output_type": "stream",
     "text": [
      "Okay, here's something interesting about Studio Ghibli that you might not know:\n",
      "\n",
      "**Hayao Miyazaki is notoriously meticulous, even when it comes to details most viewers wouldn't consciously notice.**\n",
      "\n",
      "For example, in *Spirited Away*, he personally oversaw the animation of the food scenes. He wanted the food to look absolutely delicious and appetizing, and he even insisted that the animators study real food cooking and being eaten. He believed that the way the food looked and sounded being consumed was crucial to understanding the character's emotions and the magical world they were in.\n",
      "\n",
      "This level of dedication to even seemingly minor details is a hallmark of Studio Ghibli's work and a big reason why their films resonate so deeply with audiences.\n",
      "\n"
     ]
    }
   ],
   "source": [
    "response = chat.send_message('Can you tell me something interesting about studio ghibli?')\n",
    "print(response.text)"
   ]
  },
  {
   "cell_type": "code",
   "execution_count": 11,
   "id": "78de3800",
   "metadata": {
    "execution": {
     "iopub.execute_input": "2025-04-01T19:33:50.671150Z",
     "iopub.status.busy": "2025-04-01T19:33:50.670677Z",
     "iopub.status.idle": "2025-04-01T19:33:51.316184Z",
     "shell.execute_reply": "2025-04-01T19:33:51.315090Z"
    },
    "papermill": {
     "duration": 0.658418,
     "end_time": "2025-04-01T19:33:51.317958",
     "exception": false,
     "start_time": "2025-04-01T19:33:50.659540",
     "status": "completed"
    },
    "tags": []
   },
   "outputs": [
    {
     "name": "stdout",
     "output_type": "stream",
     "text": [
      "Yes, Rajeev!\n",
      "\n"
     ]
    }
   ],
   "source": [
    "response = chat.send_message('Do you remember what my name is?')\n",
    "print(response.text)"
   ]
  },
  {
   "cell_type": "markdown",
   "id": "bf2dcaf1",
   "metadata": {
    "papermill": {
     "duration": 0.010273,
     "end_time": "2025-04-01T19:33:51.339050",
     "exception": false,
     "start_time": "2025-04-01T19:33:51.328777",
     "status": "completed"
    },
    "tags": []
   },
   "source": [
    "**Choose a model**"
   ]
  },
  {
   "cell_type": "markdown",
   "id": "b4e12970",
   "metadata": {
    "papermill": {
     "duration": 0.010005,
     "end_time": "2025-04-01T19:33:51.359224",
     "exception": false,
     "start_time": "2025-04-01T19:33:51.349219",
     "status": "completed"
    },
    "tags": []
   },
   "source": [
    "The Gemini API provides access to a number of models from the Gemini model family. Read about the available models and their capabilities on the model overview page.\n",
    "\n",
    "In this step you'll use the API to list all of the available models."
   ]
  },
  {
   "cell_type": "code",
   "execution_count": 12,
   "id": "686a0fba",
   "metadata": {
    "execution": {
     "iopub.execute_input": "2025-04-01T19:33:51.380628Z",
     "iopub.status.busy": "2025-04-01T19:33:51.380265Z",
     "iopub.status.idle": "2025-04-01T19:33:51.652582Z",
     "shell.execute_reply": "2025-04-01T19:33:51.651260Z"
    },
    "papermill": {
     "duration": 0.285041,
     "end_time": "2025-04-01T19:33:51.654394",
     "exception": false,
     "start_time": "2025-04-01T19:33:51.369353",
     "status": "completed"
    },
    "tags": []
   },
   "outputs": [
    {
     "name": "stdout",
     "output_type": "stream",
     "text": [
      "models/chat-bison-001\n",
      "models/text-bison-001\n",
      "models/embedding-gecko-001\n",
      "models/gemini-1.0-pro-vision-latest\n",
      "models/gemini-pro-vision\n",
      "models/gemini-1.5-pro-latest\n",
      "models/gemini-1.5-pro-001\n",
      "models/gemini-1.5-pro-002\n",
      "models/gemini-1.5-pro\n",
      "models/gemini-1.5-flash-latest\n",
      "models/gemini-1.5-flash-001\n",
      "models/gemini-1.5-flash-001-tuning\n",
      "models/gemini-1.5-flash\n",
      "models/gemini-1.5-flash-002\n",
      "models/gemini-1.5-flash-8b\n",
      "models/gemini-1.5-flash-8b-001\n",
      "models/gemini-1.5-flash-8b-latest\n",
      "models/gemini-1.5-flash-8b-exp-0827\n",
      "models/gemini-1.5-flash-8b-exp-0924\n",
      "models/gemini-2.5-pro-exp-03-25\n",
      "models/gemini-2.0-flash-exp\n",
      "models/gemini-2.0-flash\n",
      "models/gemini-2.0-flash-001\n",
      "models/gemini-2.0-flash-exp-image-generation\n",
      "models/gemini-2.0-flash-lite-001\n",
      "models/gemini-2.0-flash-lite\n",
      "models/gemini-2.0-flash-lite-preview-02-05\n",
      "models/gemini-2.0-flash-lite-preview\n",
      "models/gemini-2.0-pro-exp\n",
      "models/gemini-2.0-pro-exp-02-05\n",
      "models/gemini-exp-1206\n",
      "models/gemini-2.0-flash-thinking-exp-01-21\n",
      "models/gemini-2.0-flash-thinking-exp\n",
      "models/gemini-2.0-flash-thinking-exp-1219\n",
      "models/learnlm-1.5-pro-experimental\n",
      "models/gemma-3-4b-it\n",
      "models/gemma-3-12b-it\n",
      "models/gemma-3-27b-it\n",
      "models/embedding-001\n",
      "models/text-embedding-004\n",
      "models/gemini-embedding-exp-03-07\n",
      "models/gemini-embedding-exp\n",
      "models/aqa\n",
      "models/imagen-3.0-generate-002\n"
     ]
    }
   ],
   "source": [
    "for model in client.models.list():\n",
    "  print(model.name)"
   ]
  },
  {
   "cell_type": "markdown",
   "id": "f06041a6",
   "metadata": {
    "papermill": {
     "duration": 0.009953,
     "end_time": "2025-04-01T19:33:51.674672",
     "exception": false,
     "start_time": "2025-04-01T19:33:51.664719",
     "status": "completed"
    },
    "tags": []
   },
   "source": [
    "The models.list response also returns additional information about the model's capabilities, like the token limits and supported parameters"
   ]
  },
  {
   "cell_type": "code",
   "execution_count": 13,
   "id": "a1de1381",
   "metadata": {
    "execution": {
     "iopub.execute_input": "2025-04-01T19:33:51.696238Z",
     "iopub.status.busy": "2025-04-01T19:33:51.695832Z",
     "iopub.status.idle": "2025-04-01T19:33:51.963412Z",
     "shell.execute_reply": "2025-04-01T19:33:51.962110Z"
    },
    "papermill": {
     "duration": 0.280398,
     "end_time": "2025-04-01T19:33:51.965241",
     "exception": false,
     "start_time": "2025-04-01T19:33:51.684843",
     "status": "completed"
    },
    "tags": []
   },
   "outputs": [
    {
     "name": "stdout",
     "output_type": "stream",
     "text": [
      "{'description': 'Gemini 2.0 Flash',\n",
      " 'display_name': 'Gemini 2.0 Flash',\n",
      " 'input_token_limit': 1048576,\n",
      " 'name': 'models/gemini-2.0-flash',\n",
      " 'output_token_limit': 8192,\n",
      " 'supported_actions': ['generateContent', 'countTokens'],\n",
      " 'tuned_model_info': {},\n",
      " 'version': '2.0'}\n"
     ]
    }
   ],
   "source": [
    "from pprint import pprint\n",
    "\n",
    "for model in client.models.list():\n",
    "  if model.name == 'models/gemini-2.0-flash':\n",
    "    pprint(model.to_json_dict())\n",
    "    break"
   ]
  },
  {
   "cell_type": "markdown",
   "id": "c80501d9",
   "metadata": {
    "papermill": {
     "duration": 0.01018,
     "end_time": "2025-04-01T19:33:51.985827",
     "exception": false,
     "start_time": "2025-04-01T19:33:51.975647",
     "status": "completed"
    },
    "tags": []
   },
   "source": [
    "# Explore generation parameters"
   ]
  },
  {
   "cell_type": "markdown",
   "id": "4b22d213",
   "metadata": {
    "papermill": {
     "duration": 0.010043,
     "end_time": "2025-04-01T19:33:52.006197",
     "exception": false,
     "start_time": "2025-04-01T19:33:51.996154",
     "status": "completed"
    },
    "tags": []
   },
   "source": [
    "**Output length**  \n",
    "\n",
    "When generating text with an LLM, the output length affects cost and performance. Generating more tokens increases computation, leading to higher energy consumption, latency, and cost.\n",
    "\n",
    "To stop the model from generating tokens past a limit, you can specify the max_output_tokens parameter when using the Gemini API. Specifying this parameter does not influence the generation of the output tokens, so the output will not become more stylistically or textually succinct, but it will stop generating tokens once the specified length is reached. Prompt engineering may be required to generate a more complete output for your given limit."
   ]
  },
  {
   "cell_type": "code",
   "execution_count": 14,
   "id": "45b54f27",
   "metadata": {
    "execution": {
     "iopub.execute_input": "2025-04-01T19:33:52.028078Z",
     "iopub.status.busy": "2025-04-01T19:33:52.027699Z",
     "iopub.status.idle": "2025-04-01T19:33:53.707169Z",
     "shell.execute_reply": "2025-04-01T19:33:53.706040Z"
    },
    "papermill": {
     "duration": 1.692429,
     "end_time": "2025-04-01T19:33:53.708841",
     "exception": false,
     "start_time": "2025-04-01T19:33:52.016412",
     "status": "completed"
    },
    "tags": []
   },
   "outputs": [
    {
     "name": "stdout",
     "output_type": "stream",
     "text": [
      "## The Humble Olive: A Cornerstone of Culture, Cuisine, and Sustainability in Modern Society\n",
      "\n",
      "The olive, a small but mighty fruit, has woven itself inextricably into the fabric of human civilization for millennia. From its ancient origins in the Mediterranean basin to its global presence today, the olive and its derived products have served as a crucial source of sustenance, medicine, and cultural identity. Beyond its historical significance, the olive tree and its fruit continue to play a vital role in modern society, influencing our cuisine, health, economy, and even our approach to sustainable living. Its importance extends far beyond the simple act of enjoying a briny olive or drizzling olive oil over a salad; it lies in the olive's enduring legacy as a symbol of peace, prosperity, and a harmonious relationship with nature.\n",
      "\n",
      "One of the most significant contributions of the olive to modern society lies in its culinary applications. Olive oil, the liquid gold extracted from the fruit, is a cornerstone of the Mediterranean diet, celebrated for its\n"
     ]
    }
   ],
   "source": [
    "from google.genai import types\n",
    "\n",
    "short_config = types.GenerateContentConfig(max_output_tokens=200)\n",
    "\n",
    "response = client.models.generate_content(\n",
    "    model='gemini-2.0-flash',\n",
    "    config=short_config,\n",
    "    contents='Write a 1000 word essay on the importance of olives in modern society.')\n",
    "\n",
    "print(response.text)"
   ]
  },
  {
   "cell_type": "code",
   "execution_count": 15,
   "id": "812e3b82",
   "metadata": {
    "execution": {
     "iopub.execute_input": "2025-04-01T19:33:53.733199Z",
     "iopub.status.busy": "2025-04-01T19:33:53.732818Z",
     "iopub.status.idle": "2025-04-01T19:33:55.236919Z",
     "shell.execute_reply": "2025-04-01T19:33:55.235581Z"
    },
    "papermill": {
     "duration": 1.518283,
     "end_time": "2025-04-01T19:33:55.238668",
     "exception": false,
     "start_time": "2025-04-01T19:33:53.720385",
     "status": "completed"
    },
    "tags": []
   },
   "outputs": [
    {
     "name": "stdout",
     "output_type": "stream",
     "text": [
      "From ancient groves to modern plate,\n",
      "The olive reigns, a humble fate.\n",
      "Pressed into oil, a golden stream,\n",
      "It fuels our lives, a culinary dream.\n",
      "\n",
      "In salads tossed, or tapenade spread,\n",
      "A burst of flavor, wisely bred.\n",
      "A symbol peace, a healthy choice,\n",
      "The olive thrives, a vibrant voice.\n",
      "\n",
      "So raise a glass, or bite with glee,\n",
      "To this small fruit, eternally\n",
      "Connected to our taste and need,\n",
      "The olive's worth, a noble creed.\n",
      "\n"
     ]
    }
   ],
   "source": [
    "response = client.models.generate_content(\n",
    "    model='gemini-2.0-flash',\n",
    "    config=short_config,\n",
    "    contents='Write a short poem on the importance of olives in modern society.')\n",
    "\n",
    "print(response.text)"
   ]
  },
  {
   "cell_type": "markdown",
   "id": "45723255",
   "metadata": {
    "papermill": {
     "duration": 0.010149,
     "end_time": "2025-04-01T19:33:55.259517",
     "exception": false,
     "start_time": "2025-04-01T19:33:55.249368",
     "status": "completed"
    },
    "tags": []
   },
   "source": [
    "# Temperature\n",
    "\n",
    "Temperature controls the degree of randomness in token selection. Higher temperatures result in a higher number of candidate tokens from which the next output token is selected, and can produce more diverse results, while lower temperatures have the opposite effect, such that a temperature of 0 results in greedy decoding, selecting the most probable token at each step.\n",
    "\n",
    "Temperature doesn't provide any guarantees of randomness, but it can be used to \"nudge\" the output somewhat."
   ]
  },
  {
   "cell_type": "code",
   "execution_count": 16,
   "id": "aa01e916",
   "metadata": {
    "execution": {
     "iopub.execute_input": "2025-04-01T19:33:55.281658Z",
     "iopub.status.busy": "2025-04-01T19:33:55.281336Z",
     "iopub.status.idle": "2025-04-01T19:33:58.234195Z",
     "shell.execute_reply": "2025-04-01T19:33:58.233076Z"
    },
    "papermill": {
     "duration": 2.965818,
     "end_time": "2025-04-01T19:33:58.235763",
     "exception": false,
     "start_time": "2025-04-01T19:33:55.269945",
     "status": "completed"
    },
    "tags": []
   },
   "outputs": [
    {
     "name": "stdout",
     "output_type": "stream",
     "text": [
      "Turquoise\n",
      " -------------------------\n",
      "Orange.\n",
      " -------------------------\n",
      "Turquoise\n",
      " -------------------------\n",
      "Azure\n",
      " -------------------------\n",
      "Turquoise\n",
      " -------------------------\n"
     ]
    }
   ],
   "source": [
    "high_temp_config = types.GenerateContentConfig(temperature=2.0)\n",
    "\n",
    "\n",
    "for _ in range(5):\n",
    "  response = client.models.generate_content(\n",
    "      model='gemini-2.0-flash',\n",
    "      config=high_temp_config,\n",
    "      contents='Pick a random colour... (respond in a single word)')\n",
    "\n",
    "  if response.text:\n",
    "    print(response.text, '-' * 25)"
   ]
  },
  {
   "cell_type": "code",
   "execution_count": 17,
   "id": "06f1219a",
   "metadata": {
    "execution": {
     "iopub.execute_input": "2025-04-01T19:33:58.258852Z",
     "iopub.status.busy": "2025-04-01T19:33:58.258503Z",
     "iopub.status.idle": "2025-04-01T19:34:29.692758Z",
     "shell.execute_reply": "2025-04-01T19:34:29.691523Z"
    },
    "papermill": {
     "duration": 31.457793,
     "end_time": "2025-04-01T19:34:29.704475",
     "exception": false,
     "start_time": "2025-04-01T19:33:58.246682",
     "status": "completed"
    },
    "tags": []
   },
   "outputs": [
    {
     "name": "stdout",
     "output_type": "stream",
     "text": [
      "Azure\n",
      " -------------------------\n",
      "Azure\n",
      " -------------------------\n",
      "Azure\n",
      " -------------------------\n",
      "Azure\n",
      " -------------------------\n",
      "Azure\n",
      " -------------------------\n"
     ]
    }
   ],
   "source": [
    "low_temp_config = types.GenerateContentConfig(temperature=0.0)\n",
    "\n",
    "for _ in range(5):\n",
    "  response = client.models.generate_content(\n",
    "      model='gemini-2.0-flash',\n",
    "      config=low_temp_config,\n",
    "      contents='Pick a random colour... (respond in a single word)')\n",
    "\n",
    "  if response.text:\n",
    "    print(response.text, '-' * 25)"
   ]
  },
  {
   "cell_type": "code",
   "execution_count": 18,
   "id": "6c7e9de8",
   "metadata": {
    "execution": {
     "iopub.execute_input": "2025-04-01T19:34:29.727826Z",
     "iopub.status.busy": "2025-04-01T19:34:29.727486Z",
     "iopub.status.idle": "2025-04-01T19:34:33.591194Z",
     "shell.execute_reply": "2025-04-01T19:34:33.589183Z"
    },
    "papermill": {
     "duration": 3.877871,
     "end_time": "2025-04-01T19:34:33.593338",
     "exception": false,
     "start_time": "2025-04-01T19:34:29.715467",
     "status": "completed"
    },
    "tags": []
   },
   "outputs": [
    {
     "name": "stdout",
     "output_type": "stream",
     "text": [
      "Magenta\n",
      " -------------------------\n",
      "Azure\n",
      " -------------------------\n",
      "Azure\n",
      " -------------------------\n",
      "Turquoise\n",
      " -------------------------\n",
      "Magenta\n",
      " -------------------------\n"
     ]
    }
   ],
   "source": [
    "low_temp_config = types.GenerateContentConfig(temperature=1.0)\n",
    "\n",
    "for _ in range(5):\n",
    "  response = client.models.generate_content(\n",
    "      model='gemini-2.0-flash',\n",
    "      config=low_temp_config,\n",
    "      contents='Pick a random colour... (respond in a single word)')\n",
    "\n",
    "  if response.text:\n",
    "    print(response.text, '-' * 25)"
   ]
  },
  {
   "cell_type": "markdown",
   "id": "130e2b25",
   "metadata": {
    "papermill": {
     "duration": 0.01142,
     "end_time": "2025-04-01T19:34:33.616487",
     "exception": false,
     "start_time": "2025-04-01T19:34:33.605067",
     "status": "completed"
    },
    "tags": []
   },
   "source": [
    "**Top-P**\n",
    "\n",
    "Like temperature, the top-P parameter is also used to control the diversity of the model's output.\n",
    "\n",
    "Top-P defines the probability threshold that, once cumulatively exceeded, tokens stop being selected as candidates. A top-P of 0 is typically equivalent to greedy decoding, and a top-P of 1 typically selects every token in the model's vocabulary.\n",
    "\n",
    "You may also see top-K referenced in LLM literature. Top-K is not configurable in the Gemini 2.0 series of models, but can be changed in older models. Top-K is a positive integer that defines the number of most probable tokens from which to select the output token. A top-K of 1 selects a single token, performing greedy decoding.\n",
    "\n",
    "Run this example a number of times, change the settings and observe the change in output."
   ]
  },
  {
   "cell_type": "code",
   "execution_count": 19,
   "id": "848419d4",
   "metadata": {
    "execution": {
     "iopub.execute_input": "2025-04-01T19:34:33.641123Z",
     "iopub.status.busy": "2025-04-01T19:34:33.640737Z",
     "iopub.status.idle": "2025-04-01T19:34:38.726848Z",
     "shell.execute_reply": "2025-04-01T19:34:38.725555Z"
    },
    "papermill": {
     "duration": 5.100435,
     "end_time": "2025-04-01T19:34:38.728621",
     "exception": false,
     "start_time": "2025-04-01T19:34:33.628186",
     "status": "completed"
    },
    "tags": []
   },
   "outputs": [
    {
     "name": "stdout",
     "output_type": "stream",
     "text": [
      "Leo, the lion, wasn't like other lions. While his pride dreamt of gazelles and the shade of acacia trees, Leo dreamt of the ocean. He’d spend hours perched on the highest rock, watching the sun bleed into the turquoise horizon, his mane ruffled by the salty breeze. He yearned for the unknown, for something more than the familiar rhythms of the savanna.\n",
      "\n",
      "One scorching afternoon, fueled by this restless longing, Leo packed a knapsack with dried mangoes and a tattered map he'd found fluttering in the wind, a map promising riches beyond imagining on a fabled \"Isle of Sparkling Shells.\" He bid a silent farewell to his sleeping pride and set off towards the setting sun.\n",
      "\n",
      "His journey was fraught with peril. He navigated thorny thickets, outsmarted a grumpy rhinoceros, and even crossed a crocodile-infested river by precariously balancing on fallen logs. He learned to decipher the whispers of the wind, which guided him towards hidden springs and safe paths.\n",
      "\n",
      "He reached the coast after many days, the vastness of the ocean stretching before him. He knew he couldn’t swim to the Isle of Sparkling Shells, but his spirit, unyielding, refused to be defeated. He paced the beach, a golden lion against a canvas of blue, frustration gnawing at his belly.\n",
      "\n",
      "Then, he saw it. A massive, half-submerged baobab tree, its roots tangled into a natural raft. An idea sparked in Leo’s amber eyes. He spent the next few days reinforcing the roots with vines and driftwood, fashioning a makeshift sail from giant leaves.\n",
      "\n",
      "Finally, the day arrived. With a mighty roar, Leo pushed his makeshift raft into the ocean. The waves crashed against him, but he stood firm, his mane soaked and salty, his gaze fixed on the distant horizon.\n",
      "\n",
      "The journey was arduous. Storms raged, testing the integrity of his little raft. Hunger gnawed at him. But Leo held on, guided by the map and his unwavering belief. He learned to navigate by the stars, to fish with his paws, and to listen to the rhythmic lullaby of the ocean.\n",
      "\n",
      "After weeks adrift, a shimmer on the horizon caught his eye. As he drew closer, the shimmer intensified, resolving into a breathtaking sight. An island, indeed, shimmering with the iridescent glow of millions of shells. The Isle of Sparkling Shells.\n",
      "\n",
      "Leo stepped onto the beach, his paws sinking into the soft, pearly sand. The island was a kaleidoscope of color, a living jewel box. He explored its hidden coves, marveling at the strange and beautiful creatures that inhabited it. He found no gold, no jewels, but he found something far more valuable: the satisfaction of achieving the impossible.\n",
      "\n",
      "He spent weeks on the island, learning its secrets, basking in its beauty. But the savanna called to him. He had proven he could conquer the unknown, but he also knew he belonged with his pride.\n",
      "\n",
      "So, Leo, the lion who dreamt of the ocean, built another raft and set sail back towards the setting sun. He returned to his pride, not laden with riches, but with tales of daring adventure and a heart overflowing with the magic of the Isle of Sparkling Shells. He was still a lion of the savanna, but now, he was also a lion of the sea, forever changed by his extraordinary journey. And sometimes, on clear nights, his pride would wake to the softest of roars, a rumble filled not just with the power of a lion, but with the whisper of the ocean and the sparkle of a thousand shells.\n",
      "\n"
     ]
    }
   ],
   "source": [
    "model_config = types.GenerateContentConfig(\n",
    "    # These are the default values for gemini-2.0-flash.\n",
    "    temperature=1.0,\n",
    "    top_p=0.95,\n",
    ")\n",
    "\n",
    "story_prompt = \"You are a creative writer. Write a short story about a Lion who goes on an adventure.\"\n",
    "response = client.models.generate_content(\n",
    "    model='gemini-2.0-flash',\n",
    "    config=model_config,\n",
    "    contents=story_prompt)\n",
    "\n",
    "print(response.text)"
   ]
  },
  {
   "cell_type": "markdown",
   "id": "544c3d21",
   "metadata": {
    "papermill": {
     "duration": 0.011147,
     "end_time": "2025-04-01T19:34:38.751543",
     "exception": false,
     "start_time": "2025-04-01T19:34:38.740396",
     "status": "completed"
    },
    "tags": []
   },
   "source": [
    "# Prompting\n",
    "This section contains some prompts from the chapter for you to try out directly in the API. Try changing the text here to see how each prompt performs with different instructions, more examples, or any other changes you can think of."
   ]
  },
  {
   "cell_type": "markdown",
   "id": "64b73889",
   "metadata": {
    "papermill": {
     "duration": 0.011004,
     "end_time": "2025-04-01T19:34:38.774064",
     "exception": false,
     "start_time": "2025-04-01T19:34:38.763060",
     "status": "completed"
    },
    "tags": []
   },
   "source": [
    "**Zero-shot**\n",
    "\n",
    "Zero-shot prompts are prompts that describe the request for the model directly."
   ]
  },
  {
   "cell_type": "code",
   "execution_count": 20,
   "id": "2735e7b0",
   "metadata": {
    "execution": {
     "iopub.execute_input": "2025-04-01T19:34:38.798193Z",
     "iopub.status.busy": "2025-04-01T19:34:38.797778Z",
     "iopub.status.idle": "2025-04-01T19:34:39.313077Z",
     "shell.execute_reply": "2025-04-01T19:34:39.311862Z"
    },
    "papermill": {
     "duration": 0.529396,
     "end_time": "2025-04-01T19:34:39.314892",
     "exception": false,
     "start_time": "2025-04-01T19:34:38.785496",
     "status": "completed"
    },
    "tags": []
   },
   "outputs": [
    {
     "name": "stdout",
     "output_type": "stream",
     "text": [
      "POSITIVE\n",
      "\n"
     ]
    }
   ],
   "source": [
    "model_config = types.GenerateContentConfig(\n",
    "    temperature=0.1,\n",
    "    top_p=1,\n",
    "    max_output_tokens=5,\n",
    ")\n",
    "\n",
    "zero_shot_prompt = \"\"\"Classify movie reviews as POSITIVE, NEUTRAL or NEGATIVE.\n",
    "Review: \"Her\" is a disturbing study revealing the direction\n",
    "humanity is headed if AI is allowed to keep evolving,\n",
    "unchecked. I wish there were more movies like this masterpiece.\n",
    "Sentiment: \"\"\"\n",
    "\n",
    "response = client.models.generate_content(\n",
    "    model='gemini-2.0-flash',\n",
    "    config=model_config,\n",
    "    contents=zero_shot_prompt)\n",
    "\n",
    "print(response.text)"
   ]
  },
  {
   "cell_type": "code",
   "execution_count": 21,
   "id": "792e860d",
   "metadata": {
    "execution": {
     "iopub.execute_input": "2025-04-01T19:34:39.339970Z",
     "iopub.status.busy": "2025-04-01T19:34:39.339642Z",
     "iopub.status.idle": "2025-04-01T19:34:39.862826Z",
     "shell.execute_reply": "2025-04-01T19:34:39.861584Z"
    },
    "papermill": {
     "duration": 0.537942,
     "end_time": "2025-04-01T19:34:39.864743",
     "exception": false,
     "start_time": "2025-04-01T19:34:39.326801",
     "status": "completed"
    },
    "tags": []
   },
   "outputs": [
    {
     "name": "stdout",
     "output_type": "stream",
     "text": [
      "POSITIVE\n",
      "\n"
     ]
    }
   ],
   "source": [
    "model_config = types.GenerateContentConfig(\n",
    "    temperature=0.1,\n",
    "    top_p=1,\n",
    "    max_output_tokens=5,\n",
    ")\n",
    "\n",
    "zero_shot_prompt = \"\"\"Classify movie reviews as POSITIVE, NEUTRAL or NEGATIVE.\n",
    "Review: \"Interstellar\" is a movie With humanity teetering on the brink of extinction, a group of astronauts travels through a wormhole in search of another inhabitable planet.,\n",
    "unchecked. I wish there were more movies like this masterpiece.\n",
    "Sentiment: \"\"\"\n",
    "\n",
    "response = client.models.generate_content(\n",
    "    model='gemini-2.0-flash',\n",
    "    config=model_config,\n",
    "    contents=zero_shot_prompt)\n",
    "\n",
    "print(response.text)"
   ]
  },
  {
   "cell_type": "markdown",
   "id": "cf9205f7",
   "metadata": {
    "papermill": {
     "duration": 0.011377,
     "end_time": "2025-04-01T19:34:39.887871",
     "exception": false,
     "start_time": "2025-04-01T19:34:39.876494",
     "status": "completed"
    },
    "tags": []
   },
   "source": [
    "**Enum mode**\n",
    "\n",
    "The models are trained to generate text, and while the Gemini 2.0 models are great at following instructions, other models can sometimes produce more text than you may wish for. In the preceding example, the model will output the label, but sometimes it can include a preceding \"Sentiment\" label, and without an output token limit, it may also add explanatory text afterwards. \n",
    "\n",
    "The Gemini API has an Enum mode feature that allows you to constrain the output to a fixed set of values."
   ]
  },
  {
   "cell_type": "code",
   "execution_count": 22,
   "id": "68adb9ec",
   "metadata": {
    "execution": {
     "iopub.execute_input": "2025-04-01T19:34:39.912477Z",
     "iopub.status.busy": "2025-04-01T19:34:39.912117Z",
     "iopub.status.idle": "2025-04-01T19:34:40.661668Z",
     "shell.execute_reply": "2025-04-01T19:34:40.660597Z"
    },
    "papermill": {
     "duration": 0.76391,
     "end_time": "2025-04-01T19:34:40.663399",
     "exception": false,
     "start_time": "2025-04-01T19:34:39.899489",
     "status": "completed"
    },
    "tags": []
   },
   "outputs": [
    {
     "name": "stdout",
     "output_type": "stream",
     "text": [
      "positive\n"
     ]
    }
   ],
   "source": [
    "import enum\n",
    "\n",
    "class Sentiment(enum.Enum):\n",
    "    POSITIVE = \"positive\"\n",
    "    NEUTRAL = \"neutral\"\n",
    "    NEGATIVE = \"negative\"\n",
    "\n",
    "\n",
    "response = client.models.generate_content(\n",
    "    model='gemini-2.0-flash',\n",
    "    config=types.GenerateContentConfig(\n",
    "        response_mime_type=\"text/x.enum\",\n",
    "        response_schema=Sentiment\n",
    "    ),\n",
    "    contents=zero_shot_prompt)\n",
    "\n",
    "print(response.text)"
   ]
  },
  {
   "cell_type": "markdown",
   "id": "00c7aa07",
   "metadata": {
    "papermill": {
     "duration": 0.011245,
     "end_time": "2025-04-01T19:34:40.686304",
     "exception": false,
     "start_time": "2025-04-01T19:34:40.675059",
     "status": "completed"
    },
    "tags": []
   },
   "source": [
    "When using constrained output like an enum, the Python SDK will attempt to convert the model's text response into a Python object automatically. It's stored in the response.parsed field."
   ]
  },
  {
   "cell_type": "code",
   "execution_count": 23,
   "id": "97e59f41",
   "metadata": {
    "execution": {
     "iopub.execute_input": "2025-04-01T19:34:40.711470Z",
     "iopub.status.busy": "2025-04-01T19:34:40.711094Z",
     "iopub.status.idle": "2025-04-01T19:34:40.716521Z",
     "shell.execute_reply": "2025-04-01T19:34:40.715385Z"
    },
    "papermill": {
     "duration": 0.02022,
     "end_time": "2025-04-01T19:34:40.718098",
     "exception": false,
     "start_time": "2025-04-01T19:34:40.697878",
     "status": "completed"
    },
    "tags": []
   },
   "outputs": [
    {
     "name": "stdout",
     "output_type": "stream",
     "text": [
      "Sentiment.POSITIVE\n",
      "<enum 'Sentiment'>\n"
     ]
    }
   ],
   "source": [
    "enum_response = response.parsed\n",
    "print(enum_response)\n",
    "print(type(enum_response))"
   ]
  },
  {
   "cell_type": "markdown",
   "id": "757d2fff",
   "metadata": {
    "papermill": {
     "duration": 0.011785,
     "end_time": "2025-04-01T19:34:40.741687",
     "exception": false,
     "start_time": "2025-04-01T19:34:40.729902",
     "status": "completed"
    },
    "tags": []
   },
   "source": [
    "**One-shot and few-shot**\n",
    "\n",
    "Providing an example of the expected response is known as a \"one-shot\" prompt. When you provide multiple examples, it is a \"few-shot\" prompt."
   ]
  },
  {
   "cell_type": "code",
   "execution_count": 24,
   "id": "61afac4c",
   "metadata": {
    "execution": {
     "iopub.execute_input": "2025-04-01T19:34:40.766485Z",
     "iopub.status.busy": "2025-04-01T19:34:40.766111Z",
     "iopub.status.idle": "2025-04-01T19:34:41.514448Z",
     "shell.execute_reply": "2025-04-01T19:34:41.513234Z"
    },
    "papermill": {
     "duration": 0.762861,
     "end_time": "2025-04-01T19:34:41.516304",
     "exception": false,
     "start_time": "2025-04-01T19:34:40.753443",
     "status": "completed"
    },
    "tags": []
   },
   "outputs": [
    {
     "name": "stdout",
     "output_type": "stream",
     "text": [
      "```json\n",
      "{\n",
      "\"size\": \"large\",\n",
      "\"type\": \"normal\",\n",
      "\"ingredients\": [\"cheese\", \"pineapple\"]\n",
      "}\n",
      "```\n",
      "\n"
     ]
    }
   ],
   "source": [
    "few_shot_prompt = \"\"\"Parse a customer's pizza order into valid JSON:\n",
    "\n",
    "EXAMPLE:\n",
    "I want a small pizza with cheese, tomato sauce, and pepperoni.\n",
    "JSON Response:\n",
    "```\n",
    "{\n",
    "\"size\": \"small\",\n",
    "\"type\": \"normal\",\n",
    "\"ingredients\": [\"cheese\", \"tomato sauce\", \"pepperoni\"]\n",
    "}\n",
    "```\n",
    "\n",
    "EXAMPLE:\n",
    "Can I get a large pizza with tomato sauce, basil and mozzarella\n",
    "JSON Response:\n",
    "```\n",
    "{\n",
    "\"size\": \"large\",\n",
    "\"type\": \"normal\",\n",
    "\"ingredients\": [\"tomato sauce\", \"basil\", \"mozzarella\"]\n",
    "}\n",
    "```\n",
    "\n",
    "ORDER:\n",
    "\"\"\"\n",
    "\n",
    "customer_order = \"Give me a large with cheese & pineapple\"\n",
    "\n",
    "response = client.models.generate_content(\n",
    "    model='gemini-2.0-flash',\n",
    "    config=types.GenerateContentConfig(\n",
    "        temperature=0.1,\n",
    "        top_p=1,\n",
    "        max_output_tokens=250,\n",
    "    ),\n",
    "    contents=[few_shot_prompt, customer_order])\n",
    "\n",
    "print(response.text)"
   ]
  },
  {
   "cell_type": "markdown",
   "id": "b15b61dd",
   "metadata": {
    "papermill": {
     "duration": 0.011291,
     "end_time": "2025-04-01T19:34:41.539451",
     "exception": false,
     "start_time": "2025-04-01T19:34:41.528160",
     "status": "completed"
    },
    "tags": []
   },
   "source": [
    "**JSON mode**\n",
    "\n",
    "To provide control over the schema, and to ensure that you only receive JSON (with no other text or markdown), we can use the Gemini API's JSON mode. This forces the model to constrain decoding, such that token selection is guided by the supplied schema."
   ]
  },
  {
   "cell_type": "code",
   "execution_count": 25,
   "id": "843da272",
   "metadata": {
    "execution": {
     "iopub.execute_input": "2025-04-01T19:34:41.565683Z",
     "iopub.status.busy": "2025-04-01T19:34:41.565354Z",
     "iopub.status.idle": "2025-04-01T19:34:42.316907Z",
     "shell.execute_reply": "2025-04-01T19:34:42.315821Z"
    },
    "papermill": {
     "duration": 0.767155,
     "end_time": "2025-04-01T19:34:42.318638",
     "exception": false,
     "start_time": "2025-04-01T19:34:41.551483",
     "status": "completed"
    },
    "tags": []
   },
   "outputs": [
    {
     "name": "stdout",
     "output_type": "stream",
     "text": [
      "{\n",
      "  \"size\": \"large\",\n",
      "  \"ingredients\": [\"apple\", \"chocolate\"],\n",
      "  \"type\": \"dessert\"\n",
      "}\n"
     ]
    }
   ],
   "source": [
    "import typing_extensions as typing\n",
    "\n",
    "class PizzaOrder(typing.TypedDict):\n",
    "    size: str\n",
    "    ingredients: list[str]\n",
    "    type: str\n",
    "\n",
    "\n",
    "response = client.models.generate_content(\n",
    "    model='gemini-2.0-flash',\n",
    "    config=types.GenerateContentConfig(\n",
    "        temperature=0.1,\n",
    "        response_mime_type=\"application/json\",\n",
    "        response_schema=PizzaOrder,\n",
    "    ),\n",
    "    contents=\"Can I have a large dessert pizza with apple and chocolate\")\n",
    "\n",
    "print(response.text)"
   ]
  },
  {
   "cell_type": "markdown",
   "id": "d066183d",
   "metadata": {
    "papermill": {
     "duration": 0.011399,
     "end_time": "2025-04-01T19:34:42.342407",
     "exception": false,
     "start_time": "2025-04-01T19:34:42.331008",
     "status": "completed"
    },
    "tags": []
   },
   "source": [
    "**Chain of Thought (CoT)**\n",
    "\n",
    "Direct prompting on LLMs can return answers quickly and (in terms of output token usage) efficiently, but they can be prone to hallucination. The answer may \"look\" correct (in terms of language and syntax) but is incorrect in terms of factuality and reasoning.\n",
    "\n",
    "Chain-of-Thought prompting is a technique where you instruct the model to output intermediate reasoning steps, and it typically gets better results, especially when combined with few-shot examples. It is worth noting that this technique doesn't completely eliminate hallucinations, and that it tends to cost more to run, due to the increased token count.\n",
    "\n",
    "Models like the Gemini family are trained to be \"chatty\" or \"thoughtful\" and will provide reasoning steps without prompting, so for this simple example you can ask the model to be more direct in the prompt to force a non-reasoning response. Try re-running this step if the model gets lucky and gets the answer correct on the first try."
   ]
  },
  {
   "cell_type": "code",
   "execution_count": 26,
   "id": "8fea4633",
   "metadata": {
    "execution": {
     "iopub.execute_input": "2025-04-01T19:34:42.367013Z",
     "iopub.status.busy": "2025-04-01T19:34:42.366655Z",
     "iopub.status.idle": "2025-04-01T19:34:42.863785Z",
     "shell.execute_reply": "2025-04-01T19:34:42.862578Z"
    },
    "papermill": {
     "duration": 0.511476,
     "end_time": "2025-04-01T19:34:42.865599",
     "exception": false,
     "start_time": "2025-04-01T19:34:42.354123",
     "status": "completed"
    },
    "tags": []
   },
   "outputs": [
    {
     "name": "stdout",
     "output_type": "stream",
     "text": [
      "64\n",
      "\n"
     ]
    }
   ],
   "source": [
    "prompt = \"\"\"When I was 4 years old, my partner was 4 times my age. Now, I\n",
    "am 20 years old. How old is my partner? Return the answer directly.\"\"\"\n",
    "\n",
    "response = client.models.generate_content(\n",
    "    model='gemini-2.0-flash',\n",
    "    contents=prompt)\n",
    "\n",
    "print(response.text)"
   ]
  },
  {
   "cell_type": "code",
   "execution_count": 27,
   "id": "cbeb1d04",
   "metadata": {
    "execution": {
     "iopub.execute_input": "2025-04-01T19:34:42.891233Z",
     "iopub.status.busy": "2025-04-01T19:34:42.890846Z",
     "iopub.status.idle": "2025-04-01T19:34:44.088250Z",
     "shell.execute_reply": "2025-04-01T19:34:44.087053Z"
    },
    "papermill": {
     "duration": 1.212007,
     "end_time": "2025-04-01T19:34:44.090053",
     "exception": false,
     "start_time": "2025-04-01T19:34:42.878046",
     "status": "completed"
    },
    "tags": []
   },
   "outputs": [
    {
     "data": {
      "text/markdown": [
       "Here's how to solve the problem step-by-step:\n",
       "\n",
       "1.  **Find the age difference:** When you were 4, your partner was 4 * 4 = 16 years old.\n",
       "2.  **Calculate the age difference:** The age difference between you and your partner is 16 - 4 = 12 years.\n",
       "3.  **Determine the partner's current age:** Since the age difference remains constant, your partner is always 12 years older than you. Therefore, your partner is now 20 + 12 = 32 years old.\n",
       "\n",
       "**Answer:** Your partner is now 32 years old."
      ],
      "text/plain": [
       "<IPython.core.display.Markdown object>"
      ]
     },
     "execution_count": 27,
     "metadata": {},
     "output_type": "execute_result"
    }
   ],
   "source": [
    "prompt = \"\"\"When I was 4 years old, my partner was 4 times my age. Now,\n",
    "I am 20 years old. How old is my partner? Let's think step by step.\"\"\"\n",
    "\n",
    "response = client.models.generate_content(\n",
    "    model='gemini-2.0-flash',\n",
    "    contents=prompt)\n",
    "\n",
    "Markdown(response.text)"
   ]
  },
  {
   "cell_type": "markdown",
   "id": "c146eee4",
   "metadata": {
    "papermill": {
     "duration": 0.012011,
     "end_time": "2025-04-01T19:34:44.114569",
     "exception": false,
     "start_time": "2025-04-01T19:34:44.102558",
     "status": "completed"
    },
    "tags": []
   },
   "source": [
    "**ReAct: Reason and act**\n",
    "\n",
    "In this example you will run a ReAct prompt directly in the Gemini API and perform the searching steps yourself. As this prompt follows a well-defined structure, there are frameworks available that wrap the prompt into easier-to-use APIs that make tool calls automatically, such as the LangChain example from the \"Prompting\" whitepaper."
   ]
  },
  {
   "cell_type": "code",
   "execution_count": 28,
   "id": "437cc193",
   "metadata": {
    "execution": {
     "iopub.execute_input": "2025-04-01T19:34:44.139650Z",
     "iopub.status.busy": "2025-04-01T19:34:44.139298Z",
     "iopub.status.idle": "2025-04-01T19:34:44.144205Z",
     "shell.execute_reply": "2025-04-01T19:34:44.143175Z"
    },
    "papermill": {
     "duration": 0.019436,
     "end_time": "2025-04-01T19:34:44.145927",
     "exception": false,
     "start_time": "2025-04-01T19:34:44.126491",
     "status": "completed"
    },
    "tags": []
   },
   "outputs": [],
   "source": [
    "model_instructions = \"\"\"\n",
    "Solve a question answering task with interleaving Thought, Action, Observation steps. Thought can reason about the current situation,\n",
    "Observation is understanding relevant information from an Action's output and Action can be one of three types:\n",
    " (1) <search>entity</search>, which searches the exact entity on Wikipedia and returns the first paragraph if it exists. If not, it\n",
    "     will return some similar entities to search and you can try to search the information from those topics.\n",
    " (2) <lookup>keyword</lookup>, which returns the next sentence containing keyword in the current context. This only does exact matches,\n",
    "     so keep your searches short.\n",
    " (3) <finish>answer</finish>, which returns the answer and finishes the task.\n",
    "\"\"\"\n",
    "\n",
    "example1 = \"\"\"Question\n",
    "Musician and satirist Allie Goertz wrote a song about the \"The Simpsons\" character Milhouse, who Matt Groening named after who?\n",
    "\n",
    "Thought 1\n",
    "The question simplifies to \"The Simpsons\" character Milhouse is named after who. I only need to search Milhouse and find who it is named after.\n",
    "\n",
    "Action 1\n",
    "<search>Milhouse</search>\n",
    "\n",
    "Observation 1\n",
    "Milhouse Mussolini Van Houten is a recurring character in the Fox animated television series The Simpsons voiced by Pamela Hayden and created by Matt Groening.\n",
    "\n",
    "Thought 2\n",
    "The paragraph does not tell who Milhouse is named after, maybe I can look up \"named after\".\n",
    "\n",
    "Action 2\n",
    "<lookup>named after</lookup>\n",
    "\n",
    "Observation 2\n",
    "Milhouse was named after U.S. president Richard Nixon, whose middle name was Milhous.\n",
    "\n",
    "Thought 3\n",
    "Milhouse was named after U.S. president Richard Nixon, so the answer is Richard Nixon.\n",
    "\n",
    "Action 3\n",
    "<finish>Richard Nixon</finish>\n",
    "\"\"\"\n",
    "example2 = \"\"\"Question\n",
    "What is the elevation range for the area that the eastern sector of the Colorado orogeny extends into?\n",
    "\n",
    "Thought 1\n",
    "I need to search Colorado orogeny, find the area that the eastern sector of the Colorado orogeny extends into, then find the elevation range of the area.\n",
    "\n",
    "Action 1\n",
    "<search>Colorado orogeny</search>\n",
    "\n",
    "Observation 1\n",
    "The Colorado orogeny was an episode of mountain building (an orogeny) in Colorado and surrounding areas.\n",
    "\n",
    "Thought 2\n",
    "It does not mention the eastern sector. So I need to look up eastern sector.\n",
    "\n",
    "Action 2\n",
    "<lookup>eastern sector</lookup>\n",
    "\n",
    "Observation 2\n",
    "The eastern sector extends into the High Plains and is called the Central Plains orogeny.\n",
    "\n",
    "Thought 3\n",
    "The eastern sector of Colorado orogeny extends into the High Plains. So I need to search High Plains and find its elevation range.\n",
    "\n",
    "Action 3\n",
    "<search>High Plains</search>\n",
    "\n",
    "Observation 3\n",
    "High Plains refers to one of two distinct land regions\n",
    "\n",
    "Thought 4\n",
    "I need to instead search High Plains (United States).\n",
    "\n",
    "Action 4\n",
    "<search>High Plains (United States)</search>\n",
    "\n",
    "Observation 4\n",
    "The High Plains are a subregion of the Great Plains. From east to west, the High Plains rise in elevation from around 1,800 to 7,000 ft (550 to 2,130m).\n",
    "\n",
    "Thought 5\n",
    "High Plains rise in elevation from around 1,800 to 7,000 ft, so the answer is 1,800 to 7,000 ft.\n",
    "\n",
    "Action 5\n",
    "<finish>1,800 to 7,000 ft</finish>\n",
    "\"\"\"\n",
    "\n",
    "# Come up with more examples yourself, or take a look through https://github.com/ysymyth/ReAct/"
   ]
  },
  {
   "cell_type": "code",
   "execution_count": 29,
   "id": "617f4eff",
   "metadata": {
    "execution": {
     "iopub.execute_input": "2025-04-01T19:34:44.171493Z",
     "iopub.status.busy": "2025-04-01T19:34:44.171067Z",
     "iopub.status.idle": "2025-04-01T19:34:45.080321Z",
     "shell.execute_reply": "2025-04-01T19:34:45.079144Z"
    },
    "papermill": {
     "duration": 0.923971,
     "end_time": "2025-04-01T19:34:45.082173",
     "exception": false,
     "start_time": "2025-04-01T19:34:44.158202",
     "status": "completed"
    },
    "tags": []
   },
   "outputs": [
    {
     "name": "stdout",
     "output_type": "stream",
     "text": [
      "Thought 1\n",
      "I need to find the transformers NLP paper, identify the authors, and determine the youngest author.\n",
      "\n",
      "Action 1\n",
      "<search>transformers NLP paper</search>\n",
      "\n"
     ]
    }
   ],
   "source": [
    "question = \"\"\"Question\n",
    "Who was the youngest author listed on the transformers NLP paper?\n",
    "\"\"\"\n",
    "\n",
    "# You will perform the Action; so generate up to, but not including, the Observation.\n",
    "react_config = types.GenerateContentConfig(\n",
    "    stop_sequences=[\"\\nObservation\"],\n",
    "    system_instruction=model_instructions + example1 + example2,\n",
    ")\n",
    "\n",
    "# Create a chat that has the model instructions and examples pre-seeded.\n",
    "react_chat = client.chats.create(\n",
    "    model='gemini-2.0-flash',\n",
    "    config=react_config,\n",
    ")\n",
    "\n",
    "resp = react_chat.send_message(question)\n",
    "print(resp.text)"
   ]
  },
  {
   "cell_type": "code",
   "execution_count": 30,
   "id": "15d6a612",
   "metadata": {
    "execution": {
     "iopub.execute_input": "2025-04-01T19:34:45.108760Z",
     "iopub.status.busy": "2025-04-01T19:34:45.108282Z",
     "iopub.status.idle": "2025-04-01T19:34:45.998778Z",
     "shell.execute_reply": "2025-04-01T19:34:45.997492Z"
    },
    "papermill": {
     "duration": 0.906065,
     "end_time": "2025-04-01T19:34:46.000770",
     "exception": false,
     "start_time": "2025-04-01T19:34:45.094705",
     "status": "completed"
    },
    "tags": []
   },
   "outputs": [
    {
     "name": "stdout",
     "output_type": "stream",
     "text": [
      "Thought 2\n",
      "The authors are Ashish Vaswani, Noam Shazeer, Niki Parmar, Jakob Uszkoreit, Llion Jones, Aidan N. Gomez, Lukasz Kaiser, Illia Polosukhin. I need to find their ages.\n",
      "\n",
      "Action 2\n",
      "<search>Ashish Vaswani age</search>\n",
      "\n"
     ]
    }
   ],
   "source": [
    "observation = \"\"\"Observation 1\n",
    "[1706.03762] Attention Is All You Need\n",
    "Ashish Vaswani, Noam Shazeer, Niki Parmar, Jakob Uszkoreit, Llion Jones, Aidan N. Gomez, Lukasz Kaiser, Illia Polosukhin\n",
    "We propose a new simple network architecture, the Transformer, based solely on attention mechanisms, dispensing with recurrence and convolutions entirely.\n",
    "\"\"\"\n",
    "resp = react_chat.send_message(observation)\n",
    "print(resp.text)"
   ]
  },
  {
   "cell_type": "markdown",
   "id": "b89de1db",
   "metadata": {
    "papermill": {
     "duration": 0.066887,
     "end_time": "2025-04-01T19:34:46.079899",
     "exception": false,
     "start_time": "2025-04-01T19:34:46.013012",
     "status": "completed"
    },
    "tags": []
   },
   "source": [
    "**Thinking model**\n",
    "\n",
    "The experiemental Gemini Flash 2.0 \"Thinking\" model has been trained to generate the \"thinking process\" the model goes through as part of its response. As a result, the Flash Thinking model is capable of stronger reasoning capabilities in its responses.\n",
    "\n",
    "Using a \"thinking mode\" model can provide you with high-quality responses without needing specialised prompting like the previous approaches. One reason this technique is effective is that you induce the model to generate relevant information (\"brainstorming\", or \"thoughts\") that is then used as part of the context in which the final response is generated."
   ]
  },
  {
   "cell_type": "code",
   "execution_count": 31,
   "id": "418a00a6",
   "metadata": {
    "execution": {
     "iopub.execute_input": "2025-04-01T19:34:46.105494Z",
     "iopub.status.busy": "2025-04-01T19:34:46.105058Z",
     "iopub.status.idle": "2025-04-01T19:34:53.885914Z",
     "shell.execute_reply": "2025-04-01T19:34:53.884961Z"
    },
    "papermill": {
     "duration": 7.795608,
     "end_time": "2025-04-01T19:34:53.887611",
     "exception": false,
     "start_time": "2025-04-01T19:34:46.092003",
     "status": "completed"
    },
    "tags": []
   },
   "outputs": [
    {
     "data": {
      "text/markdown": [
       "The youngest author listed on the \"Attention is All You Need\" paper (which introduced the Transformer architecture) is likely **Aidan N. Gomez**.\n",
       "\n",
       "Here's why:\n",
       "\n",
       "* **Aidan N. Gomez** was a PhD student at the University of Toronto at the time the paper was published in 2017. PhD students are generally younger than established researchers or professors.  While precise birthdates aren't always readily available, being a PhD student strongly suggests he was the youngest or among the youngest.\n",
       "\n",
       "* The other authors were more established researchers at Google Brain and the University of Toronto, suggesting they were likely further along in their careers and therefore older.\n",
       "\n",
       "**To confirm definitively, you would need to find the birthdates of all the authors and compare them.** However, based on typical academic career paths and available information, Aidan N. Gomez is the most probable youngest author.\n",
       "\n",
       "The authors of the \"Attention is All You Need\" paper are:\n",
       "\n",
       "* Ashish Vaswani\n",
       "* Noam Shazeer\n",
       "* Niki Parmar\n",
       "* Jakob Uszkoreit\n",
       "* Llion Jones\n",
       "* Aidan N. Gomez\n",
       "* Łukasz Kaiser\n",
       "* Illia Polosukhin\n",
       "\n",
       "**In conclusion, while we can't be 100% certain without birthdates, Aidan N. Gomez is highly likely to be the youngest author listed on the Transformers paper.**"
      ],
      "text/plain": [
       "<IPython.core.display.Markdown object>"
      ]
     },
     "execution_count": 31,
     "metadata": {},
     "output_type": "execute_result"
    }
   ],
   "source": [
    "import io\n",
    "from IPython.display import Markdown, clear_output\n",
    "\n",
    "\n",
    "response = client.models.generate_content_stream(\n",
    "    model='gemini-2.0-flash-thinking-exp',\n",
    "    contents='Who was the youngest author listed on the transformers NLP paper?',\n",
    ")\n",
    "\n",
    "buf = io.StringIO()\n",
    "for chunk in response:\n",
    "    buf.write(chunk.text)\n",
    "    # Display the response as it is streamed\n",
    "    print(chunk.text, end='')\n",
    "\n",
    "# And then render the finished response as formatted markdown.\n",
    "clear_output()\n",
    "Markdown(buf.getvalue())"
   ]
  },
  {
   "cell_type": "markdown",
   "id": "00974ccf",
   "metadata": {
    "papermill": {
     "duration": 0.012148,
     "end_time": "2025-04-01T19:34:53.912722",
     "exception": false,
     "start_time": "2025-04-01T19:34:53.900574",
     "status": "completed"
    },
    "tags": []
   },
   "source": [
    "**Generating code**\n",
    "\n",
    "The Gemini family of models can be used to generate code, configuration and scripts. Generating code can be helpful when learning to code, learning a new language or for rapidly generating a first draft.\n",
    "\n",
    "It's important to be aware that since LLMs can make mistakes, and can repeat training data, it's essential to read and test your code first, and comply with any relevant licenses."
   ]
  },
  {
   "cell_type": "code",
   "execution_count": 32,
   "id": "a3c580f6",
   "metadata": {
    "execution": {
     "iopub.execute_input": "2025-04-01T19:34:53.939447Z",
     "iopub.status.busy": "2025-04-01T19:34:53.939072Z",
     "iopub.status.idle": "2025-04-01T19:34:54.749741Z",
     "shell.execute_reply": "2025-04-01T19:34:54.748548Z"
    },
    "papermill": {
     "duration": 0.825981,
     "end_time": "2025-04-01T19:34:54.751594",
     "exception": false,
     "start_time": "2025-04-01T19:34:53.925613",
     "status": "completed"
    },
    "tags": []
   },
   "outputs": [
    {
     "data": {
      "text/markdown": [
       "```python\n",
       "def factorial(n):\n",
       "    if n == 0:\n",
       "        return 1\n",
       "    else:\n",
       "        return n * factorial(n-1)\n",
       "```"
      ],
      "text/plain": [
       "<IPython.core.display.Markdown object>"
      ]
     },
     "execution_count": 32,
     "metadata": {},
     "output_type": "execute_result"
    }
   ],
   "source": [
    "# The Gemini models love to talk, so it helps to specify they stick to the code if that\n",
    "# is all that you want.\n",
    "code_prompt = \"\"\"\n",
    "Write a Python function to calculate the factorial of a number. No explanation, provide only the code.\n",
    "\"\"\"\n",
    "\n",
    "response = client.models.generate_content(\n",
    "    model='gemini-2.0-flash',\n",
    "    config=types.GenerateContentConfig(\n",
    "        temperature=1,\n",
    "        top_p=1,\n",
    "        max_output_tokens=1024,\n",
    "    ),\n",
    "    contents=code_prompt)\n",
    "\n",
    "Markdown(response.text)"
   ]
  },
  {
   "cell_type": "markdown",
   "id": "daa39274",
   "metadata": {
    "papermill": {
     "duration": 0.012596,
     "end_time": "2025-04-01T19:34:54.776899",
     "exception": false,
     "start_time": "2025-04-01T19:34:54.764303",
     "status": "completed"
    },
    "tags": []
   },
   "source": [
    "**Code executionl**\n",
    "\n",
    "The Gemini API can automatically run generated code too, and will return the output."
   ]
  },
  {
   "cell_type": "code",
   "execution_count": 33,
   "id": "ad0b8f16",
   "metadata": {
    "execution": {
     "iopub.execute_input": "2025-04-01T19:34:54.803237Z",
     "iopub.status.busy": "2025-04-01T19:34:54.802789Z",
     "iopub.status.idle": "2025-04-01T19:34:57.006823Z",
     "shell.execute_reply": "2025-04-01T19:34:57.005612Z"
    },
    "papermill": {
     "duration": 2.219266,
     "end_time": "2025-04-01T19:34:57.008737",
     "exception": false,
     "start_time": "2025-04-01T19:34:54.789471",
     "status": "completed"
    },
    "tags": []
   },
   "outputs": [
    {
     "name": "stdout",
     "output_type": "stream",
     "text": [
      "{'text': \"Okay, I can do that. First, I'll generate the first 14 odd prime \"\n",
      "         \"numbers, and then I'll calculate their sum. Prime numbers are \"\n",
      "         'numbers greater than 1 that are only divisible by 1 and themselves. '\n",
      "         'Odd numbers are not divisible by 2.\\n'\n",
      "         '\\n'\n",
      "         'The first few prime numbers are 2, 3, 5, 7, 11, 13, 17, 19, 23, 29, '\n",
      "         \"31, 37, 41, 43, 47, 53... Since we need odd prime numbers, we'll \"\n",
      "         'exclude 2 from the list.\\n'\n",
      "         '\\n'\n",
      "         'So the first 14 odd prime numbers are: 3, 5, 7, 11, 13, 17, 19, 23, '\n",
      "         '29, 31, 37, 41, 43, 47.\\n'\n",
      "         '\\n'\n",
      "         \"Now let's calculate their sum using python.\\n\"\n",
      "         '\\n'}\n",
      "-----\n",
      "{'executable_code': {'code': 'numbers = [3, 5, 7, 11, 13, 17, 19, 23, 29, 31, '\n",
      "                             '37, 41, 43, 47]\\n'\n",
      "                             'sum_of_numbers = sum(numbers)\\n'\n",
      "                             \"print(f'{sum_of_numbers=}')\\n\",\n",
      "                     'language': 'PYTHON'}}\n",
      "-----\n",
      "{'code_execution_result': {'outcome': 'OUTCOME_OK',\n",
      "                           'output': 'sum_of_numbers=326\\n'}}\n",
      "-----\n",
      "{'text': 'The sum of the first 14 odd prime numbers is 326.\\n'}\n",
      "-----\n"
     ]
    }
   ],
   "source": [
    "from pprint import pprint\n",
    "\n",
    "config = types.GenerateContentConfig(\n",
    "    tools=[types.Tool(code_execution=types.ToolCodeExecution())],\n",
    ")\n",
    "\n",
    "code_exec_prompt = \"\"\"\n",
    "Generate the first 14 odd prime numbers, then calculate their sum.\n",
    "\"\"\"\n",
    "\n",
    "response = client.models.generate_content(\n",
    "    model='gemini-2.0-flash',\n",
    "    config=config,\n",
    "    contents=code_exec_prompt)\n",
    "\n",
    "for part in response.candidates[0].content.parts:\n",
    "  pprint(part.to_json_dict())\n",
    "  print(\"-----\")"
   ]
  },
  {
   "cell_type": "code",
   "execution_count": 34,
   "id": "ba9032ae",
   "metadata": {
    "execution": {
     "iopub.execute_input": "2025-04-01T19:34:57.035477Z",
     "iopub.status.busy": "2025-04-01T19:34:57.035070Z",
     "iopub.status.idle": "2025-04-01T19:34:57.046804Z",
     "shell.execute_reply": "2025-04-01T19:34:57.045850Z"
    },
    "papermill": {
     "duration": 0.026679,
     "end_time": "2025-04-01T19:34:57.048410",
     "exception": false,
     "start_time": "2025-04-01T19:34:57.021731",
     "status": "completed"
    },
    "tags": []
   },
   "outputs": [
    {
     "data": {
      "text/markdown": [
       "Okay, I can do that. First, I'll generate the first 14 odd prime numbers, and then I'll calculate their sum. Prime numbers are numbers greater than 1 that are only divisible by 1 and themselves. Odd numbers are not divisible by 2.\n",
       "\n",
       "The first few prime numbers are 2, 3, 5, 7, 11, 13, 17, 19, 23, 29, 31, 37, 41, 43, 47, 53... Since we need odd prime numbers, we'll exclude 2 from the list.\n",
       "\n",
       "So the first 14 odd prime numbers are: 3, 5, 7, 11, 13, 17, 19, 23, 29, 31, 37, 41, 43, 47.\n",
       "\n",
       "Now let's calculate their sum using python.\n",
       "\n"
      ],
      "text/plain": [
       "<IPython.core.display.Markdown object>"
      ]
     },
     "metadata": {},
     "output_type": "display_data"
    },
    {
     "data": {
      "text/markdown": [
       "```python\n",
       "numbers = [3, 5, 7, 11, 13, 17, 19, 23, 29, 31, 37, 41, 43, 47]\n",
       "sum_of_numbers = sum(numbers)\n",
       "print(f'{sum_of_numbers=}')\n",
       "\n",
       "```"
      ],
      "text/plain": [
       "<IPython.core.display.Markdown object>"
      ]
     },
     "metadata": {},
     "output_type": "display_data"
    },
    {
     "data": {
      "text/markdown": [
       "```\n",
       "sum_of_numbers=326\n",
       "\n",
       "```"
      ],
      "text/plain": [
       "<IPython.core.display.Markdown object>"
      ]
     },
     "metadata": {},
     "output_type": "display_data"
    },
    {
     "data": {
      "text/markdown": [
       "The sum of the first 14 odd prime numbers is 326.\n"
      ],
      "text/plain": [
       "<IPython.core.display.Markdown object>"
      ]
     },
     "metadata": {},
     "output_type": "display_data"
    }
   ],
   "source": [
    "for part in response.candidates[0].content.parts:\n",
    "    if part.text:\n",
    "        display(Markdown(part.text))\n",
    "    elif part.executable_code:\n",
    "        display(Markdown(f'```python\\n{part.executable_code.code}\\n```'))\n",
    "    elif part.code_execution_result:\n",
    "        if part.code_execution_result.outcome != 'OUTCOME_OK':\n",
    "            display(Markdown(f'## Status {part.code_execution_result.outcome}'))\n",
    "\n",
    "        display(Markdown(f'```\\n{part.code_execution_result.output}\\n```'))"
   ]
  },
  {
   "cell_type": "markdown",
   "id": "292a2579",
   "metadata": {
    "papermill": {
     "duration": 0.01255,
     "end_time": "2025-04-01T19:34:57.074123",
     "exception": false,
     "start_time": "2025-04-01T19:34:57.061573",
     "status": "completed"
    },
    "tags": []
   },
   "source": [
    "**Explaining code**\n",
    "\n",
    "The Gemini family of models can explain code to you too. In this example, you pass a bash script and ask some questions."
   ]
  },
  {
   "cell_type": "code",
   "execution_count": 35,
   "id": "21b7f330",
   "metadata": {
    "execution": {
     "iopub.execute_input": "2025-04-01T19:34:57.102347Z",
     "iopub.status.busy": "2025-04-01T19:34:57.101932Z",
     "iopub.status.idle": "2025-04-01T19:36:32.184649Z",
     "shell.execute_reply": "2025-04-01T19:36:32.183589Z"
    },
    "papermill": {
     "duration": 95.110977,
     "end_time": "2025-04-01T19:36:32.198209",
     "exception": false,
     "start_time": "2025-04-01T19:34:57.087232",
     "status": "completed"
    },
    "tags": []
   },
   "outputs": [
    {
     "data": {
      "text/markdown": [
       "This file is a **Bash script designed to enhance your command-line prompt with information about the current Git repository.**  It's often called `bash-git-prompt` (or something similar).\n",
       "\n",
       "Here's the breakdown:\n",
       "\n",
       "*   **What it is:** It's a collection of functions and configuration options that, when sourced (loaded) into your Bash or Zsh shell, modify your prompt to display information like:\n",
       "\n",
       "    *   The current branch name.\n",
       "    *   Whether there are uncommitted changes (staged, unstaged, or untracked files).\n",
       "    *   The status of your branch relative to its remote tracking branch (ahead, behind, or diverged).\n",
       "    *   Information about virtual environments (Python, Node, Conda).\n",
       "    *   Whether the last command was successful or failed.\n",
       "    *   And more.\n",
       "\n",
       "*   **Why you'd use it:**\n",
       "\n",
       "    *   **Stay informed:**  Quickly see the state of your Git repository without having to run `git status` all the time.  This helps you avoid accidentally committing the wrong changes or forgetting to push.\n",
       "    *   **Increased productivity:**  Having Git information right in your prompt makes it easier to manage your projects and collaborate with others.\n",
       "    *   **Customization:**  The script is highly customizable. You can change the colors, symbols, and the information displayed to fit your workflow and preferences.\n",
       "    *   **Visual Cues:** The colors and symbols provide instant visual cues about the state of your repository, such as whether there are any pending changes or if you're on a detached HEAD.\n",
       "\n",
       "In essence, this script provides a visual dashboard for your Git repositories directly in your command-line prompt. It helps you stay aware of the status of your projects, streamline your workflow, and improve your overall command-line experience.\n"
      ],
      "text/plain": [
       "<IPython.core.display.Markdown object>"
      ]
     },
     "execution_count": 35,
     "metadata": {},
     "output_type": "execute_result"
    }
   ],
   "source": [
    "file_contents = !curl https://raw.githubusercontent.com/magicmonty/bash-git-prompt/refs/heads/master/gitprompt.sh\n",
    "\n",
    "explain_prompt = f\"\"\"\n",
    "Please explain what this file does at a very high level. What is it, and why would I use it?\n",
    "\n",
    "```\n",
    "{file_contents}\n",
    "```\n",
    "\"\"\"\n",
    "\n",
    "response = client.models.generate_content(\n",
    "    model='gemini-2.0-flash',\n",
    "    contents=explain_prompt)\n",
    "\n",
    "Markdown(response.text)"
   ]
  },
  {
   "cell_type": "markdown",
   "id": "d8d4cbfc",
   "metadata": {
    "papermill": {
     "duration": 0.012739,
     "end_time": "2025-04-01T19:36:32.224130",
     "exception": false,
     "start_time": "2025-04-01T19:36:32.211391",
     "status": "completed"
    },
    "tags": []
   },
   "source": [
    "# Thank You"
   ]
  }
 ],
 "metadata": {
  "kaggle": {
   "accelerator": "none",
   "dataSources": [],
   "dockerImageVersionId": 30918,
   "isGpuEnabled": false,
   "isInternetEnabled": true,
   "language": "python",
   "sourceType": "notebook"
  },
  "kernelspec": {
   "display_name": "Python 3",
   "language": "python",
   "name": "python3"
  },
  "language_info": {
   "codemirror_mode": {
    "name": "ipython",
    "version": 3
   },
   "file_extension": ".py",
   "mimetype": "text/x-python",
   "name": "python",
   "nbconvert_exporter": "python",
   "pygments_lexer": "ipython3",
   "version": "3.10.12"
  },
  "papermill": {
   "default_parameters": {},
   "duration": 183.847877,
   "end_time": "2025-04-01T19:36:33.058138",
   "environment_variables": {},
   "exception": null,
   "input_path": "__notebook__.ipynb",
   "output_path": "__notebook__.ipynb",
   "parameters": {},
   "start_time": "2025-04-01T19:33:29.210261",
   "version": "2.6.0"
  }
 },
 "nbformat": 4,
 "nbformat_minor": 5
}
